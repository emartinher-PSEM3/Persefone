{
 "cells": [
  {
   "cell_type": "code",
   "execution_count": 76,
   "metadata": {},
   "outputs": [],
   "source": [
    "# using Pandas\n",
    "using CSV\n",
    "using DataFrames"
   ]
  },
  {
   "cell_type": "code",
   "execution_count": 115,
   "metadata": {},
   "outputs": [
    {
     "data": {
      "text/plain": [
       "200"
      ]
     },
     "execution_count": 115,
     "metadata": {},
     "output_type": "execute_result"
    }
   ],
   "source": [
    "# Show all lines rows and columns of dataframes\n",
    "ENV[\"COLUMNS\"]=200\n",
    "ENV[\"LINES\"]=200"
   ]
  },
  {
   "cell_type": "markdown",
   "metadata": {},
   "source": [
    "### Entry data module\n",
    "### Note!! By comparison with national statistics summary, the census are the animals in a specific moment, not all animals over the year in case of having several cycles"
   ]
  },
  {
   "cell_type": "code",
   "execution_count": 125,
   "metadata": {},
   "outputs": [
    {
     "data": {
      "text/plain": [
       "1-element Array{Int64,1}:\n",
       " 5"
      ]
     },
     "execution_count": 125,
     "metadata": {},
     "output_type": "execute_result"
    }
   ],
   "source": [
    "EntryData = DataFrame!(CSV.File(\"EntryData/EntryData.csv\")) # Read in a CSV file as a dataframe\n",
    "\n",
    "# Check input is a number and it is not empty \n",
    "# typeof(a)<:Number\n",
    "# https://docs.julialang.org/en/v1/manual/control-flow/#Exception-Handling-1\n",
    "DataTypeCheck_EntryModule(x) = typeof(x)<:Number ? x : throw(DomainError(x, \"Argument must be a number\"))\n",
    "for i in EntryData[1,:]\n",
    "    DataTypeCheck_EntryModule(i)\n",
    "end\n",
    "EntryData.\"N_animals_SowGestating\""
   ]
  },
  {
   "cell_type": "markdown",
   "metadata": {},
   "source": [
    "### Import physico-chemical properties dataset"
   ]
  },
  {
   "cell_type": "code",
   "execution_count": 36,
   "metadata": {},
   "outputs": [
    {
     "data": {
      "text/html": [
       "<table class=\"data-frame\"><thead><tr><th></th><th>Components</th><th>Units</th><th>Sow Gestating</th><th>Sow Lactating</th><th>Boar</th><th>Piglets Nursery</th><th>Piglets Grow to finish</th></tr><tr><th></th><th>String</th><th>String</th><th>Float64</th><th>Float64</th><th>Float64</th><th>Float64</th><th>Float64</th></tr></thead><tbody><p>13 rows × 7 columns</p><tr><th>1</th><td>Weight</td><td>lb/d-1000 AU</td><td>25.0</td><td>59.0</td><td>19.0</td><td>88.0</td><td>65.0</td></tr><tr><th>2</th><td>Volume </td><td>lb/d-1000 AU</td><td>0.41</td><td>0.97</td><td>0.3</td><td>1.4</td><td>1.1</td></tr><tr><th>3</th><td>Moisture</td><td>%weight</td><td>90.0</td><td>90.0</td><td>90.0</td><td>90.0</td><td>90.0</td></tr><tr><th>4</th><td>TS </td><td>lb/d-1000 AU</td><td>2.5</td><td>5.9</td><td>1.9</td><td>10.0</td><td>6.5</td></tr><tr><th>5</th><td>VS</td><td>lb/d-1000 AU</td><td>2.3</td><td>5.4</td><td>1.7</td><td>8.8</td><td>5.4</td></tr><tr><th>6</th><td>BOD</td><td>lb/d-1000 AU</td><td>0.84</td><td>2.0</td><td>0.66</td><td>3.4</td><td>2.1</td></tr><tr><th>7</th><td>N</td><td>lb/d-1000 AU</td><td>0.16</td><td>0.45</td><td>0.14</td><td>0.92</td><td>0.54</td></tr><tr><th>8</th><td>P</td><td>lb/d-1000 AU</td><td>0.05</td><td>0.13</td><td>0.05</td><td>0.15</td><td>0.09</td></tr><tr><th>9</th><td>K</td><td>lb/d-1000 AU</td><td>0.11</td><td>0.28</td><td>0.09</td><td>0.35</td><td>0.24</td></tr><tr><th>10</th><td>inorgN_to_totalN</td><td>ratio</td><td>0.5</td><td>0.5</td><td>0.5</td><td>0.5</td><td>0.5</td></tr><tr><th>11</th><td>orgN_to_totalN</td><td>ratio</td><td>0.5</td><td>0.5</td><td>0.5</td><td>0.5</td><td>0.5</td></tr><tr><th>12</th><td>inorgP_to_totalP</td><td>ratio</td><td>0.58</td><td>0.58</td><td>0.58</td><td>0.58</td><td>0.58</td></tr><tr><th>13</th><td>orgP_to_totalP</td><td>ratio</td><td>0.42</td><td>0.42</td><td>0.42</td><td>0.42</td><td>0.42</td></tr></tbody></table>"
      ],
      "text/latex": [
       "\\begin{tabular}{r|ccccccc}\n",
       "\t& Components & Units & Sow Gestating & Sow Lactating & Boar & Piglets Nursery & Piglets Grow to finish\\\\\n",
       "\t\\hline\n",
       "\t& String & String & Float64 & Float64 & Float64 & Float64 & Float64\\\\\n",
       "\t\\hline\n",
       "\t1 & Weight & lb/d-1000 AU & 25.0 & 59.0 & 19.0 & 88.0 & 65.0 \\\\\n",
       "\t2 & Volume  & lb/d-1000 AU & 0.41 & 0.97 & 0.3 & 1.4 & 1.1 \\\\\n",
       "\t3 & Moisture & \\%weight & 90.0 & 90.0 & 90.0 & 90.0 & 90.0 \\\\\n",
       "\t4 & TS  & lb/d-1000 AU & 2.5 & 5.9 & 1.9 & 10.0 & 6.5 \\\\\n",
       "\t5 & VS & lb/d-1000 AU & 2.3 & 5.4 & 1.7 & 8.8 & 5.4 \\\\\n",
       "\t6 & BOD & lb/d-1000 AU & 0.84 & 2.0 & 0.66 & 3.4 & 2.1 \\\\\n",
       "\t7 & N & lb/d-1000 AU & 0.16 & 0.45 & 0.14 & 0.92 & 0.54 \\\\\n",
       "\t8 & P & lb/d-1000 AU & 0.05 & 0.13 & 0.05 & 0.15 & 0.09 \\\\\n",
       "\t9 & K & lb/d-1000 AU & 0.11 & 0.28 & 0.09 & 0.35 & 0.24 \\\\\n",
       "\t10 & inorgN\\_to\\_totalN & ratio & 0.5 & 0.5 & 0.5 & 0.5 & 0.5 \\\\\n",
       "\t11 & orgN\\_to\\_totalN & ratio & 0.5 & 0.5 & 0.5 & 0.5 & 0.5 \\\\\n",
       "\t12 & inorgP\\_to\\_totalP & ratio & 0.58 & 0.58 & 0.58 & 0.58 & 0.58 \\\\\n",
       "\t13 & orgP\\_to\\_totalP & ratio & 0.42 & 0.42 & 0.42 & 0.42 & 0.42 \\\\\n",
       "\\end{tabular}\n"
      ],
      "text/plain": [
       "13×7 DataFrame\n",
       "│ Row │ Components       │ Units        │ Sow Gestating │ Sow Lactating │ Boar    │ Piglets Nursery │ Piglets Grow to finish │\n",
       "│     │ \u001b[90mString\u001b[39m           │ \u001b[90mString\u001b[39m       │ \u001b[90mFloat64\u001b[39m       │ \u001b[90mFloat64\u001b[39m       │ \u001b[90mFloat64\u001b[39m │ \u001b[90mFloat64\u001b[39m         │ \u001b[90mFloat64\u001b[39m                │\n",
       "├─────┼──────────────────┼──────────────┼───────────────┼───────────────┼─────────┼─────────────────┼────────────────────────┤\n",
       "│ 1   │ Weight           │ lb/d-1000 AU │ 25.0          │ 59.0          │ 19.0    │ 88.0            │ 65.0                   │\n",
       "│ 2   │ Volume           │ lb/d-1000 AU │ 0.41          │ 0.97          │ 0.3     │ 1.4             │ 1.1                    │\n",
       "│ 3   │ Moisture         │ %weight      │ 90.0          │ 90.0          │ 90.0    │ 90.0            │ 90.0                   │\n",
       "│ 4   │ TS               │ lb/d-1000 AU │ 2.5           │ 5.9           │ 1.9     │ 10.0            │ 6.5                    │\n",
       "│ 5   │ VS               │ lb/d-1000 AU │ 2.3           │ 5.4           │ 1.7     │ 8.8             │ 5.4                    │\n",
       "│ 6   │ BOD              │ lb/d-1000 AU │ 0.84          │ 2.0           │ 0.66    │ 3.4             │ 2.1                    │\n",
       "│ 7   │ N                │ lb/d-1000 AU │ 0.16          │ 0.45          │ 0.14    │ 0.92            │ 0.54                   │\n",
       "│ 8   │ P                │ lb/d-1000 AU │ 0.05          │ 0.13          │ 0.05    │ 0.15            │ 0.09                   │\n",
       "│ 9   │ K                │ lb/d-1000 AU │ 0.11          │ 0.28          │ 0.09    │ 0.35            │ 0.24                   │\n",
       "│ 10  │ inorgN_to_totalN │ ratio        │ 0.5           │ 0.5           │ 0.5     │ 0.5             │ 0.5                    │\n",
       "│ 11  │ orgN_to_totalN   │ ratio        │ 0.5           │ 0.5           │ 0.5     │ 0.5             │ 0.5                    │\n",
       "│ 12  │ inorgP_to_totalP │ ratio        │ 0.58          │ 0.58          │ 0.58    │ 0.58            │ 0.58                   │\n",
       "│ 13  │ orgP_to_totalP   │ ratio        │ 0.42          │ 0.42          │ 0.42    │ 0.42            │ 0.42                   │"
      ]
     },
     "execution_count": 36,
     "metadata": {},
     "output_type": "execute_result"
    }
   ],
   "source": [
    "# PhysChemProp_Swine = read_csv(\"Datasets/SwineWasteData.csv\") # Read in a CSV file as a dataframe\n",
    "PhysChemProp_Swine = DataFrame!(CSV.File(\"Datasets/SwineWasteData.csv\")) # Read in a CSV file as a dataframe\n",
    "# show(PhysChemProp_Swine, allcols=true)"
   ]
  },
  {
   "cell_type": "code",
   "execution_count": 74,
   "metadata": {},
   "outputs": [
    {
     "data": {
      "text/plain": [
       "1-element Array{Float64,1}:\n",
       " 50.0"
      ]
     },
     "execution_count": 74,
     "metadata": {},
     "output_type": "execute_result"
    }
   ],
   "source": [
    "# These functions are equivalent\n",
    "# PhysChemProp_Swine[!,\"Sow Gestating\"][PhysChemProp_Swine[!,\"Components\"].==\"Weight\"]\n",
    "# PhysChemProp_Swine.\"Sow Gestating\"[PhysChemProp_Swine.Components.==\"Weight\"]"
   ]
  },
  {
   "cell_type": "markdown",
   "metadata": {},
   "source": [
    "### Characterization of livestock facility"
   ]
  },
  {
   "cell_type": "code",
   "execution_count": 122,
   "metadata": {},
   "outputs": [
    {
     "data": {
      "text/plain": [
       "5-element Array{String,1}:\n",
       " \"SowGestating\"       \n",
       " \"SowLactating\"       \n",
       " \"Boar\"               \n",
       " \"PigletsNursery\"     \n",
       " \"PigletsGrowToFinish\""
      ]
     },
     "execution_count": 122,
     "metadata": {},
     "output_type": "execute_result"
    }
   ],
   "source": [
    "livestock_list = [\"SowGestating\",\"SowLactating\",\"Boar\",\"PigletsNursery\",\"PigletsGrowToFinish\"]\n",
    "\n",
    "F_SowGestating        = (EntryData.\"N_animals_SowGestating\"/waste_data.loc['Dairy Cow','AU_equivalence']*waste_data.loc['Dairy Cow','Weight'])/24/3600\n",
    "F_SowLactating        = (EntryData.\"N_animals_SowLactating\"/waste_data.loc['Dairy Heifer','AU_equivalence']*waste_data.loc['Dairy Cow','Weight'])/24/3600\n",
    "F_Boar                = (EntryData.\"N_animals_Boar\"/waste_data.loc['Dairy Calf','AU_equivalence']*waste_data.loc['Dairy Calf','Weight'])/24/3600\n",
    "F_PigletsNursery      = (EntryData.\"N_animals_PigletsNursery \"/waste_data.loc['Beef Cow','AU_equivalence']*waste_data.loc['Beef Cow','Weight'])/24/3600\n",
    "F_PigletsGrowToFinish = (EntryData.\"N_animals_PigletsGrowToFinish\"/waste_data.loc['Beef Calf','AU_equivalence']*waste_data.loc['Beef Calf','Weight'])/24/3600"
   ]
  }
 ],
 "metadata": {
  "kernelspec": {
   "display_name": "Julia 1.0.5",
   "language": "julia",
   "name": "julia-1.0"
  },
  "language_info": {
   "file_extension": ".jl",
   "mimetype": "application/julia",
   "name": "julia",
   "version": "1.0.5"
  }
 },
 "nbformat": 4,
 "nbformat_minor": 4
}
