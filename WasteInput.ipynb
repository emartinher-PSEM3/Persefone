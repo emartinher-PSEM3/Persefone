{
 "cells": [
  {
   "cell_type": "code",
   "execution_count": 1,
   "metadata": {},
   "outputs": [],
   "source": [
    "import os\n",
    "# import conda\n",
    "import pandas as pd\n",
    "import numpy as np\n",
    "import json\n",
    "from scipy.optimize import curve_fit\n",
    "# from shapely.geometry import Polygon as Poly\n",
    "\n",
    "pd.options.display.max_columns = 250\n",
    "\n",
    "# conda_file_dir = conda.__file__\n",
    "# conda_dir = conda_file_dir.split('lib')[0]\n",
    "# proj_lib = os.path.join(os.path.join(conda_dir, 'share'), 'proj')\n",
    "# os.environ[\"PROJ_LIB\"] = proj_lib\n",
    "\n",
    "import matplotlib.pyplot as plt\n",
    "import matplotlib.cm\n",
    "import matplotlib.colors as colors\n",
    "\n",
    "import geopandas\n",
    "from geopandas.tools import sjoin\n",
    "# import geoplot as gplt\n",
    "# import geoplot.crs as gcrs\n",
    "\n",
    "import folium"
   ]
  },
  {
   "cell_type": "code",
   "execution_count": null,
   "metadata": {},
   "outputs": [],
   "source": [
    "def SwineWasteInputModule (N_animals_DairyCow, N_animals_DairyHeifer, N_animals_DairyCalf, N_animals_BeefCow, N_animals_BeefCalf):"
   ]
  }
 ],
 "metadata": {
  "kernelspec": {
   "display_name": "Python 3",
   "language": "python",
   "name": "python3"
  },
  "language_info": {
   "codemirror_mode": {
    "name": "ipython",
    "version": 3
   },
   "file_extension": ".py",
   "mimetype": "text/x-python",
   "name": "python",
   "nbconvert_exporter": "python",
   "pygments_lexer": "ipython3",
   "version": "3.7.4"
  }
 },
 "nbformat": 4,
 "nbformat_minor": 4
}
